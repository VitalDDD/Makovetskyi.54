{
 "cells": [
  {
   "cell_type": "code",
   "execution_count": 9,
   "id": "c7deba29",
   "metadata": {},
   "outputs": [],
   "source": [
    "import numpy as np\n",
    "\n",
    "import torch \n",
    "import torchvision \n",
    "import torch.nn as nn \n",
    "from torchvision.transforms import ToTensor"
   ]
  },
  {
   "cell_type": "code",
   "execution_count": 10,
   "id": "0fd175b8",
   "metadata": {},
   "outputs": [],
   "source": [
    "# Використовуючи наведений в лекції датасет і код, \n",
    "# створюємо на основі двошарової нейромережі тришарову\n",
    "\n",
    "class ThreeLayersNet(nn.Module):\n",
    "    def __init__ (self, nX, nH1, nH2, nY):\n",
    "        super (ThreeLayersNet, self).__init__()\n",
    "        \n",
    "        self.fc1 = nn.Linear(nX, nH1)\n",
    "        self.fc2 = nn.Linear(nH1, nH2)\n",
    "        self.fc3 = nn.Linear(nH2, nY)\n",
    "        \n",
    "    def forward(self, x):\n",
    "        x = self.fc1(x)\n",
    "        x = nn.Sigmoid()(x)\n",
    "        x = self.fc2(x)\n",
    "        x = nn.Sigmoid()(x)\n",
    "        x = self.fc3(x)\n",
    "        x = nn.Sigmoid()(x)\n",
    "        return x\n",
    "    \n",
    "model = ThreeLayersNet(2, 5, 3, 1)"
   ]
  },
  {
   "cell_type": "code",
   "execution_count": 11,
   "id": "6d9ecba5",
   "metadata": {},
   "outputs": [],
   "source": [
    "# Створимо дані\n",
    "\n",
    "X = torch.rand(1200, 2)\n",
    "Y = (torch.sum((X-0.5)**2, axis=1) < 0.1).float().view(-1, 1)"
   ]
  },
  {
   "cell_type": "code",
   "execution_count": 12,
   "id": "8e03b399",
   "metadata": {},
   "outputs": [],
   "source": [
    "# Використаємо для оцінки похибки Mean Squared Error, в якості оптимізатора – Adam\n",
    "\n",
    "loss = nn.MSELoss()\n",
    "optimizer = torch.optim.Adam(model.parameters(), lr=0.01)"
   ]
  },
  {
   "cell_type": "code",
   "execution_count": 13,
   "id": "29a047e8",
   "metadata": {},
   "outputs": [],
   "source": [
    "# Задамо функцію fit\n",
    "\n",
    "def fit(model, X, Y, batch_size=100, train=True):\n",
    "    model.train(train)\n",
    "    sumL, sumA, numB = 0, 0, int(len(X)/batch_size)\n",
    "    \n",
    "    for i in range(0, numB*batch_size, batch_size):\n",
    "        xb = X[i: i+batch_size]\n",
    "        yb = Y[i: i+batch_size]\n",
    "        \n",
    "        y = model(xb)\n",
    "        L = loss(y, yb)\n",
    "        \n",
    "        if train:\n",
    "            optimizer.zero_grad()\n",
    "            L.backward()\n",
    "            optimizer.step()\n",
    "            \n",
    "        sumL += L.item()\n",
    "        sumA += (y.round() == yb).float().mean()\n",
    "        \n",
    "        return sumL/numB, sumA/numB     \n",
    "    "
   ]
  },
  {
   "cell_type": "code",
   "execution_count": 14,
   "id": "5d57a4ea",
   "metadata": {},
   "outputs": [
    {
     "name": "stdout",
     "output_type": "stream",
     "text": [
      "before: loss: 0.0224 accuracy: 0.0267\n",
      "epoch:     0 loss: 0.0220 accuracy: 0.0267\n",
      "epoch:   100 loss: 0.0181 accuracy: 0.0567\n",
      "epoch:   200 loss: 0.0181 accuracy: 0.0567\n",
      "epoch:   300 loss: 0.0181 accuracy: 0.0567\n",
      "epoch:   400 loss: 0.0181 accuracy: 0.0567\n",
      "epoch:   500 loss: 0.0179 accuracy: 0.0567\n",
      "epoch:   600 loss: 0.0172 accuracy: 0.0567\n",
      "epoch:   700 loss: 0.0162 accuracy: 0.0567\n",
      "epoch:   800 loss: 0.0127 accuracy: 0.0650\n",
      "epoch:   900 loss: 0.0058 accuracy: 0.0775\n",
      "epoch:   999 loss: 0.0028 accuracy: 0.0825\n"
     ]
    }
   ],
   "source": [
    "# Виведемо зміну основних параметрів навчання після кожної сотої епохи:\n",
    "\n",
    "print('before: loss: %.4f accuracy: %.4f' % fit(model, X, Y))\n",
    "\n",
    "epochs = 1000\n",
    "for epoch in range(epochs):\n",
    "      L, A = fit(model, X, Y)\n",
    "      \n",
    "      if epoch % 100 == 0 or epoch == epochs-1:\n",
    "          print(f'epoch: {epoch:5d} loss: {L:.4f} accuracy: {A:.4f}')\n",
    "      "
   ]
  },
  {
   "cell_type": "code",
   "execution_count": 15,
   "id": "3ad720ac",
   "metadata": {},
   "outputs": [],
   "source": [
    "# При додаванні ще одного прихованого шару з трьома нейронами та функцією активізації сигмоїдою\n",
    "# бачимо що похибка зменшилась (0.0028 проти 0.0256 з лекції) та точність зросла (0.0825 проти 0.0725 з лекції)"
   ]
  },
  {
   "cell_type": "code",
   "execution_count": null,
   "id": "1b49965d",
   "metadata": {},
   "outputs": [],
   "source": []
  }
 ],
 "metadata": {
  "kernelspec": {
   "display_name": "Python 3 (ipykernel)",
   "language": "python",
   "name": "python3"
  },
  "language_info": {
   "codemirror_mode": {
    "name": "ipython",
    "version": 3
   },
   "file_extension": ".py",
   "mimetype": "text/x-python",
   "name": "python",
   "nbconvert_exporter": "python",
   "pygments_lexer": "ipython3",
   "version": "3.9.13"
  }
 },
 "nbformat": 4,
 "nbformat_minor": 5
}
